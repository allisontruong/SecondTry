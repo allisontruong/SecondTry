{
 "cells": [
  {
   "cell_type": "markdown",
   "metadata": {},
   "source": [
    "# Iterables\n",
    "Today we will discuss \n",
    "* comprehensions\n",
    "* iterables of objects and iterators\n",
    "* lazy evaluation with generators\n",
    "* other tools"
   ]
  },
  {
   "cell_type": "markdown",
   "metadata": {},
   "source": [
    "## List Comprehension\n",
    "\n",
    "syntax: **[expr(item) for the item in iterable]**\n",
    "\n",
    "* Readable\n",
    "* Expressive\n",
    "* Effective"
   ]
  },
  {
   "cell_type": "code",
   "execution_count": 1,
   "metadata": {},
   "outputs": [
    {
     "data": {
      "text/plain": [
       "['Today', 'I', 'am', 'very', 'happy', 'to', 'learn', 'comprehensions']"
      ]
     },
     "execution_count": 1,
     "metadata": {},
     "output_type": "execute_result"
    }
   ],
   "source": [
    "words = \"Today I am very happy to learn comprehensions\".split()\n",
    "words"
   ]
  },
  {
   "cell_type": "code",
   "execution_count": 5,
   "metadata": {},
   "outputs": [
    {
     "name": "stdout",
     "output_type": "stream",
     "text": [
      "[5, 1, 2, 4, 5, 2, 5, 14]\n"
     ]
    }
   ],
   "source": [
    "# Traditional way\n",
    "l = []\n",
    "for item in words:\n",
    "    l.append(len(item))\n",
    "print(l)"
   ]
  },
  {
   "cell_type": "code",
   "execution_count": 4,
   "metadata": {},
   "outputs": [
    {
     "data": {
      "text/plain": [
       "[5, 1, 2, 4, 5, 2, 5, 14]"
      ]
     },
     "execution_count": 4,
     "metadata": {},
     "output_type": "execute_result"
    }
   ],
   "source": [
    "# Now use a comprehension\n",
    "[len(word) for word in words]"
   ]
  },
  {
   "cell_type": "markdown",
   "metadata": {},
   "source": [
    "#### Task: Find the number of digits of the first 20 factorial using range function"
   ]
  },
  {
   "cell_type": "code",
   "execution_count": 15,
   "metadata": {},
   "outputs": [
    {
     "name": "stdout",
     "output_type": "stream",
     "text": [
      "[1, 1, 1, 1, 2, 3, 3, 4, 5, 6, 7, 8, 9, 10, 11, 13, 14, 15, 16, 18]\n"
     ]
    }
   ],
   "source": [
    "from math import factorial\n",
    "\n",
    "l=[]\n",
    "for i in range(20):\n",
    "    l.append(len(str(factorial(i))))\n",
    "print(l)"
   ]
  },
  {
   "cell_type": "code",
   "execution_count": 19,
   "metadata": {},
   "outputs": [
    {
     "name": "stdout",
     "output_type": "stream",
     "text": [
      "[1, 1, 1, 1, 2, 3, 3, 4, 5, 6, 7, 8, 9, 10, 11, 13, 14, 15, 16, 18]\n",
      "<class 'list'>\n"
     ]
    }
   ],
   "source": [
    "# Now use a list comprehension\n",
    "f = [len(str(factorial(x))) for x in range(20)]\n",
    "print(f)\n",
    "print(type(f))"
   ]
  },
  {
   "cell_type": "markdown",
   "metadata": {},
   "source": [
    "## Set Comprehensions\n",
    " syntax: **{expr(item) for item in iterable}**"
   ]
  },
  {
   "cell_type": "code",
   "execution_count": 20,
   "metadata": {},
   "outputs": [
    {
     "name": "stdout",
     "output_type": "stream",
     "text": [
      "{1, 2, 3, 4, 5, 6, 7, 8, 9, 10, 11, 13, 14, 15, 16, 18}\n",
      "<class 'set'>\n"
     ]
    }
   ],
   "source": [
    "# Set comprehension  (gets rid of duplicates since that's the property of a set)\n",
    "f = {len(str(factorial(x))) for x in range(20)}\n",
    "print(f)\n",
    "print(type(f))"
   ]
  },
  {
   "cell_type": "markdown",
   "metadata": {},
   "source": [
    "## Dictionary Comprehension\n",
    "\n",
    "syntax: **{key_expr:value_expr for item in iterable}**"
   ]
  },
  {
   "cell_type": "code",
   "execution_count": 22,
   "metadata": {},
   "outputs": [
    {
     "name": "stdout",
     "output_type": "stream",
     "text": [
      "{'AAPL': 416, 'BIT': 12345, 'GOOG': 891, 'HBO': 321, 'IBM': 239, 'YHOO': 12}\n"
     ]
    }
   ],
   "source": [
    "from pprint import pprint as pp\n",
    "stocks = {\"GOOG\":891, \"AAPL\":416, \"IBM\":239, \"HBO\": 321, \"YHOO\":12, \"BIT\":12345}\n",
    "pp(stocks)"
   ]
  },
  {
   "cell_type": "code",
   "execution_count": 24,
   "metadata": {},
   "outputs": [
    {
     "name": "stdout",
     "output_type": "stream",
     "text": [
      "{891: 'GOOG', 416: 'AAPL', 239: 'IBM', 321: 'HBO', 12: 'YHOO', 12345: 'BIT'}\n"
     ]
    }
   ],
   "source": [
    "# Dictionary Comprehension\n",
    "d = {v:l for l,v in stocks.items()}\n",
    "print(d)"
   ]
  },
  {
   "cell_type": "code",
   "execution_count": 25,
   "metadata": {},
   "outputs": [
    {
     "data": {
      "text/plain": [
       "['Hi', 'Hello', 'Foxtrot', 'Hotel', 'Adios']"
      ]
     },
     "execution_count": 25,
     "metadata": {},
     "output_type": "execute_result"
    }
   ],
   "source": [
    "words = \"Hi Hello Foxtrot Hotel Adios\".split()\n",
    "words"
   ]
  },
  {
   "cell_type": "code",
   "execution_count": 28,
   "metadata": {},
   "outputs": [
    {
     "name": "stdout",
     "output_type": "stream",
     "text": [
      "{'Hi': 'Hi', 'Hel': 'Hello', 'Fox': 'Foxtrot', 'Hot': 'Hotel', 'Adi': 'Adios'}\n"
     ]
    }
   ],
   "source": [
    "d = {x[:3]:x for x in words}\n",
    "print(d)"
   ]
  },
  {
   "cell_type": "markdown",
   "metadata": {},
   "source": [
    "## Filter Predicates\n",
    "All three types of comprehension support **optional filtering clause** of a list of comprehension which allows you to chose which items of source are evaluated by the expression on the left  (example in pycharms comprehensions.py)"
   ]
  },
  {
   "cell_type": "code",
   "execution_count": null,
   "metadata": {
    "collapsed": true
   },
   "outputs": [],
   "source": []
  }
 ],
 "metadata": {
  "kernelspec": {
   "display_name": "Python 3",
   "language": "python",
   "name": "python3"
  },
  "language_info": {
   "codemirror_mode": {
    "name": "ipython",
    "version": 3
   },
   "file_extension": ".py",
   "mimetype": "text/x-python",
   "name": "python",
   "nbconvert_exporter": "python",
   "pygments_lexer": "ipython3",
   "version": "3.6.3"
  }
 },
 "nbformat": 4,
 "nbformat_minor": 2
}
